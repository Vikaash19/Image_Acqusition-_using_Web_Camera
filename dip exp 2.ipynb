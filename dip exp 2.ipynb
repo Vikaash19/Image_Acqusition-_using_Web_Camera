{
 "cells": [
  {
   "cell_type": "code",
   "execution_count": 1,
   "id": "7edc4b7f-899a-47be-844a-10e63539852c",
   "metadata": {},
   "outputs": [],
   "source": [
    "import cv2\n",
    "import numpy as np\n",
    "viedoCaptureObject=cv2.VideoCapture(0)\n",
    "ret,frame=viedoCaptureObject.read()\n",
    "cv2.imwrite(\"captured_frame.jpg\",frame)\n",
    "viedoCaptureObject.release()\n",
    "cv2.destroyAllWindows()"
   ]
  },
  {
   "cell_type": "code",
   "execution_count": 2,
   "id": "452636e9-57f5-4cce-8e73-0641171af2f0",
   "metadata": {},
   "outputs": [],
   "source": [
    "cap = cv2.VideoCapture(0)\n",
    "ret, frame = cap.read()\n",
    "cv2.imshow('captured_frame', frame)\n",
    "cv2.waitKey(10000)\n",
    "cap.release()\n",
    "cv2.destroyAllWindows()"
   ]
  },
  {
   "cell_type": "code",
   "execution_count": 3,
   "id": "dde5b78a-0af5-4033-8772-86031051f682",
   "metadata": {},
   "outputs": [],
   "source": [
    "cap=cv2.VideoCapture(0)\n",
    "ret,frame=cap.read()\n",
    "width=int(cap.get(3))\n",
    "height=int(cap.get(4))\n",
    "image=np.zeros(frame.shape,np.uint8)\n",
    "smaller_frame=cv2.resize(frame,(0,0),fx=0.5,fy=0.5)\n",
    "image[:height//2, :width//2]=smaller_frame\n",
    "image[height//2:, :width//2]=smaller_frame\n",
    "image[:height//2, width//2:]=smaller_frame\n",
    "image[height//2:, width//2:]=smaller_frame\n",
    "cv2.imshow('',image)\n",
    "cv2.waitKey(5000)  \n",
    "image_dict = {'captured_image1': image}\n",
    "cv2.imwrite('captured_image1.jpg', image)\n",
    "cap.release()\n",
    "cv2.destroyAllWindows()"
   ]
  },
  {
   "cell_type": "code",
   "execution_count": 4,
   "id": "e9d341a3-8675-4b2f-8fdf-76ad66518a38",
   "metadata": {},
   "outputs": [],
   "source": [
    "cap=cv2.VideoCapture(0)\n",
    "ret,frame=cap.read()\n",
    "width=int(cap.get(3))\n",
    "height=int(cap.get(4))\n",
    "image=np.zeros(frame.shape,np.uint8)\n",
    "smaller_frame=cv2.resize(frame,(0,0),fx=0.5,fy=0.5)\n",
    "image[:height//2, :width//2]=cv2.rotate(smaller_frame,cv2.ROTATE_180)\n",
    "image[height//2:, :width//2]=smaller_frame\n",
    "image[:height//2, width//2:]=cv2.rotate(smaller_frame,cv2.ROTATE_180)\n",
    "image[height//2:, width//2:]=smaller_frame\n",
    "cv2.imshow('',image)\n",
    "cv2.waitKey(5000) \n",
    "image_dict = {'captured_image2': image}\n",
    "cv2.imwrite('captured_image2.jpg', image)\n",
    "cap.release()\n",
    "cv2.destroyAllWindows()"
   ]
  },
  {
   "cell_type": "code",
   "execution_count": null,
   "id": "a3aee95e-74b6-4527-8067-3a2299e1f3f6",
   "metadata": {},
   "outputs": [],
   "source": []
  }
 ],
 "metadata": {
  "kernelspec": {
   "display_name": "Python 3 (ipykernel)",
   "language": "python",
   "name": "python3"
  },
  "language_info": {
   "codemirror_mode": {
    "name": "ipython",
    "version": 3
   },
   "file_extension": ".py",
   "mimetype": "text/x-python",
   "name": "python",
   "nbconvert_exporter": "python",
   "pygments_lexer": "ipython3",
   "version": "3.12.9"
  }
 },
 "nbformat": 4,
 "nbformat_minor": 5
}
